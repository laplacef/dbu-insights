{
 "cells": [
  {
   "cell_type": "code",
   "execution_count": null,
   "metadata": {},
   "outputs": [],
   "source": [
    "# Dependencies.\n",
    "\n",
    "from modules.data_analysis import DataAnalysis as da\n",
    "from modules.database_connections import DBConnector as dbc\n"
   ]
  },
  {
   "cell_type": "code",
   "execution_count": null,
   "metadata": {},
   "outputs": [],
   "source": [
    "# Load data, check for nulls, and verify dtypes.\n",
    "\n",
    "usage_df = da().load_data(filename=\"dbu_usage_data.xlsx\", sheet_name=\"Data\")\n",
    "# usage_df.info()"
   ]
  },
  {
   "cell_type": "code",
   "execution_count": null,
   "metadata": {},
   "outputs": [],
   "source": [
    "# Create database engine and connection objects to handle database persistence.\n",
    "\n",
    "sqlserver_engine = dbc().sqlserver_engine()\n",
    "dbc().create_db(engine=sqlserver_engine)\n",
    "dbc().create_connection(sqlserver_engine)"
   ]
  },
  {
   "cell_type": "code",
   "execution_count": null,
   "metadata": {},
   "outputs": [],
   "source": [
    "# Push dbu data table to database server.\n",
    "\n",
    "try:\n",
    "    usage_df.to_sql(name=\"dbu_usage\", con=sqlserver_engine)\n",
    "except ValueError:\n",
    "    print(\"ValueError: Table name already exists\")\n",
    "else:\n",
    "    print(\"SUCCESS: Table created\")"
   ]
  },
  {
   "cell_type": "code",
   "execution_count": null,
   "metadata": {},
   "outputs": [],
   "source": [
    "# Confirm table and columns in server database.\n",
    "\n",
    "dbc().view_db_tables(engine=sqlserver_engine)"
   ]
  }
 ],
 "metadata": {
  "interpreter": {
   "hash": "a01f8da0ba3d638d0b616335b65682d8760de60486e5f691fa637ed9bafe83aa"
  },
  "kernelspec": {
   "display_name": "Python 3.9.7 ('databricks')",
   "language": "python",
   "name": "python3"
  },
  "language_info": {
   "codemirror_mode": {
    "name": "ipython",
    "version": 3
   },
   "file_extension": ".py",
   "mimetype": "text/x-python",
   "name": "python",
   "nbconvert_exporter": "python",
   "pygments_lexer": "ipython3",
   "version": "3.9.7"
  },
  "orig_nbformat": 4
 },
 "nbformat": 4,
 "nbformat_minor": 2
}
